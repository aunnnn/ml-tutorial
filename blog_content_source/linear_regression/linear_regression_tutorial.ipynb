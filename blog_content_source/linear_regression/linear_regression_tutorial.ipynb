{
 "cells": [
  {
   "cell_type": "markdown",
   "metadata": {},
   "source": [
    "# A Complete Guide to Matrix Notation and Linear Regression"
   ]
  },
  {
   "cell_type": "markdown",
   "metadata": {},
   "source": [
    "Let's really understand matrix notation in context of linear regression, from the ground up.\n",
    "\n",
    "Linear Regression finds the best line, or *hyperplane* $\\hat{y}$ in higher dimension, or generally a function $f$:\n",
    "\n",
    "$$ \\hat{y} = f(x) = wx $$\n",
    "\n",
    "that fits the whole data. This is just a dot product between vector $w$ and a data point $x$ in $d$ dimension: \n",
    "\n",
    "$$ \\hat{y} = w_0 + w_1x_1 + w_2x_2 + ... + w_dx_d $$ \n",
    "\n",
    "Notice that we use $w_0$ as an intercept term, and thus we need to add a dummy dimension with value of \"1\" ($x_0$) for all data points $x$. Thus, $x$ here is on $d+1$ dimension. Think of it as the y-intercept term $c$ in 2-dimension ($y = mx + c$).\n",
    "\n",
    "Another way to look at this is that $f(x)$ transforms a data point $x$ on $d+1$ dimension into a predicted scalar value $\\hat{y}$ that is close to target $y$:\n",
    "\n",
    "$$\n",
    "\\begin{bmatrix}\n",
    "x_0 \\\\\n",
    "x_1 \\\\\n",
    "\\vdots \\\\\n",
    "x_d \n",
    "\\end{bmatrix}\n",
    "\\xrightarrow{f}\n",
    "\\hat{y}\n",
    "\\approx y\n",
    "$$"
   ]
  },
  {
   "cell_type": "markdown",
   "metadata": {},
   "source": [
    "## The Sum of Squared Error Loss\n",
    "\n",
    "The best way to solve this is to find $w$ that minimizes the **sum of squared errors (SSE)**$^\\dagger$, or the \"error\" between all of predicted value $\\hat{y}^i$ and the target $y^i$ of $i^{th}$ data point for $i = 1$ to $n$, writing this as a loss function $L(w)$:\n",
    "\n",
    "$$ \n",
    "L(w) = \\sum_{i=1}^{n} \\left( y^i - \\hat{y}^i \\right)^2 = \\sum_{i=1}^{n} \\left( y^i - wx^i \\right)^2\n",
    "$$\n",
    "\n",
    "From now on we refer to a data point (d+1 vector) as $x^i$ and target (scalar) as $y^i$.\n",
    "\n",
    "*$^\\dagger$ Surprisingly, the SSE loss is not from someone's intuition, but it's systematically derived from the assumption that there is Gaussian noise with our observation of the underlying linear relationship.*\n",
    "\n",
    "\n",
    "### How to Find the Optimal Solution\n",
    "An optimal solution ($w$) for this equation can be found either using *closed-form solution* or via iterative methods like gradient descent. \n",
    "\n",
    "**A closed-form solution** means we figure out the formula for $w = ...$. Implementing that formula in a program directly solves the problem. The thing is you have to come up with the correct one yourself, by hand. \n",
    "\n",
    "Do you remember how to find a minimum (or maximum) value for a function? We take the derivative of the function above with respect to $w$, set it to zero, and solve for the $w$ in terms of other parameters. This is like taking a single jump to the optimal value. We do all the hard work for computers. \n",
    "\n",
    "Luckily we can do this for linear regression, but not all loss functions be solved this way, actually, only a few. In those cases, we use **iterative methods like gradient descent** to search for the solution. In contrast to closed-form solution, we do not jump directly to the optimal answer, instead, we take many steps that lead us near to where the optimal answer lives.\n",
    "\n",
    "\n",
    "Next let's derive the closed-form solution for linear regression. In order to do that efficiently, we need some matrix notations.\n"
   ]
  },
  {
   "cell_type": "markdown",
   "metadata": {},
   "source": [
    "## Going into Matrix Notation\n",
    "Writing things down in matrix notation makes things much faster in NumPy. **But it's not easy to read matrix notation, especially if you study machine learning on your own.** There're things like dot product, matrix multiplication, transpose and stuff that you need to keep track of in your head. If you're starting out, then please write them on papers, drawing figures as needed to make you understand. It really pays off.\n",
    "\n",
    "On top of that, these few **key standards** will make our lives with linear algebra easier:\n",
    "\n",
    "### 1. Always a *column* vector\n",
    "\n",
    "When you see standalone vectors in a matrix notation formula, assumes it's a column vector. E.g., \n",
    "\n",
    "$$x = \n",
    "\\begin{bmatrix}\n",
    "1 \\\\\n",
    "2 \\\\\n",
    "3 \\\\\n",
    "\\end{bmatrix}\n",
    "$$\n",
    "\n",
    "and so its transpose is a row vector, \n",
    "\n",
    "$$x^T = \n",
    "\\begin{bmatrix}\n",
    "1 & 2 & 3\n",
    "\\end{bmatrix}\n",
    "$$ \n",
    "\n",
    "Likewise, you should try to make the final result of matrix operation to be a column vector.\n",
    "\n",
    "Note that the NumPy vector created by `np.zeros`, `np.arange`, etc., is not really a column vector. It has only one dimension `(N,)`. So, you cannot transpose it directly (`x.T` still gives you `x`.) To convert it to a column vector, we use `x.reshape(N,1)` or `x[:, None]`."
   ]
  },
  {
   "cell_type": "markdown",
   "metadata": {},
   "source": [
    "### 2. Feature matrix $X$ is rows of data points\n",
    "Our data points $x^i$ are on $d+1$ dimension, and there is $n$ of them, we store them all in a 2-d matrix $X$:\n",
    "\n",
    "$$\n",
    "X = \\begin{align}\n",
    "\\underset{n\\times d}\n",
    "{\\begin{bmatrix}\n",
    "\\longleftarrow & x^1 & \\longrightarrow \\\\\n",
    "\\longleftarrow & x^2 & \\longrightarrow \\\\\n",
    "& \\vdots & \\\\\n",
    "\\longleftarrow & x^n & \\longrightarrow \\\\\n",
    "\\end{bmatrix}}\n",
    "\\end{align}\n",
    "$$\n",
    "\n",
    "Each row in $X$ is a row vector for each data point. Also note that we use uppercase letter for matrix."
   ]
  },
  {
   "cell_type": "markdown",
   "metadata": {},
   "source": [
    "#### 3. Again, $w$ is a column vector\n",
    "Like the first point, our $w$ will be $d+1$ dimension column vector with w_0 as an intercept term:\n",
    "$$\n",
    "w = \n",
    "\\begin{bmatrix}\n",
    "w_0 \\\\\n",
    "w_1 \\\\\n",
    "\\vdots \\\\\n",
    "w_d \n",
    "\\end{bmatrix}\n",
    "$$"
   ]
  },
  {
   "cell_type": "markdown",
   "metadata": {},
   "source": [
    "### 4. Dot products of rows in matrix $X$ with vector $w$ is $Xw$\n",
    "Sometimes we want the dot product of each row in matrix with a vector:\n",
    "$$\n",
    "Xw = \\underset{n\\times (d+1)}\n",
    "{\n",
    "    \\begin{bmatrix}\n",
    "    \\longleftarrow & x^1 & \\longrightarrow \\\\\n",
    "    \\longleftarrow & x^2 & \\longrightarrow \\\\\n",
    "    & \\vdots & \\\\\n",
    "    \\longleftarrow & x^n & \\longrightarrow \\\\\n",
    "    \\end{bmatrix}\n",
    "}\n",
    "\\underset{(d+1) \\times 1}\n",
    "{\n",
    "    \\begin{bmatrix}\n",
    "    \\uparrow \\\\\n",
    "    w \\\\\n",
    "    \\downarrow\n",
    "    \\end{bmatrix}\n",
    "}\n",
    "=\n",
    "\\begin{bmatrix}\n",
    "x^1w \\\\\n",
    "x^2w \\\\\n",
    "\\vdots \\\\\n",
    "x^nw\n",
    "\\end{bmatrix} \n",
    "$$\n",
    "\n",
    "given that $X$ contains rows of vectors we want to dot product with. \n",
    "\n",
    "Interestingly, this gives us a column vector of our predictions $\\hat{y}$:\n",
    "\n",
    "$$\n",
    "\\begin{bmatrix}\n",
    "x^1w \\\\\n",
    "x^2w \\\\\n",
    "\\vdots \\\\\n",
    "x^nw\n",
    "\\end{bmatrix} =\n",
    "\\begin{bmatrix}\n",
    "\\hat{y}^1 \\\\\n",
    "\\hat{y}^2 \\\\\n",
    "\\vdots \\\\\n",
    "\\hat{y}^n \\\\\n",
    "\\end{bmatrix} = \\hat{y}\n",
    "$$\n",
    "\n",
    "It's also good to remind yourself that it sums along dimension of $x^i$ and $w$:\n",
    "$$\n",
    "Xw =\n",
    "\\begin{bmatrix}\n",
    "\\sum_{j=0}^{d} x_j^1w_j \\\\\n",
    "\\sum_{j=0}^{d} x_j^2w_j \\\\\n",
    "\\vdots \\\\\n",
    "\\sum_{j=0}^{d} x_j^nw_j \\\\\n",
    "\\end{bmatrix} \n",
    "$$"
   ]
  },
  {
   "cell_type": "markdown",
   "metadata": {},
   "source": [
    "### 5. Sum of Squared  is $x^Tx$\n",
    "\n",
    "This is a useful pattern to memorize. Sometimes we want the sum of squared of each element in arbitrary d-dimension vector $x$:\n",
    "\n",
    "$$\n",
    "\\sum_{j=1}^{d} x_i^2\n",
    "$$\n",
    "\n",
    "which is simply $x^Tx$:\n",
    "\n",
    "$$\n",
    "x^Tx = \n",
    "\\begin{bmatrix}\n",
    "x_1 & ... & x_d\n",
    "\\end{bmatrix}\n",
    "\\begin{bmatrix}\n",
    "x_1 \\\\\n",
    "\\vdots \\\\\n",
    "x_d \n",
    "\\end{bmatrix}\n",
    "= \\sum_{j=1}^{d} x_i^2\n",
    "$$\n",
    "\n",
    "Notice that the result of $x^Tx$ is scalar, e.g., a number. \n",
    "\n",
    "In fancy term, ${\\left\\lVert x \\right\\rVert} = \\sqrt{\\sum_{j=1}^{d} x_i^2}$ is L2-norm (or Euclidean norm) of $x$. So we can write sum of squared as ${\\left\\lVert x \\right\\rVert}^2 = \\sum_{j=1}^{d} x_i^2$. For now, let's not care what norm actually means."
   ]
  },
  {
   "cell_type": "markdown",
   "metadata": {},
   "source": [
    "### Writing SSE Loss in Matrix Notation\n",
    "\n",
    "Now you're ready, let's write the above SSE loss function in matrix notation. If you look at $L(w)$ closely, it's a sum of squared of vector $y - \\hat{y}$. This means we can kick-off by applying our fourth trick:\n",
    "\n",
    "$$\n",
    "L(w) = {\\left\\lVert y - \\hat{y} \\right\\rVert}^2\n",
    "$$"
   ]
  },
  {
   "cell_type": "markdown",
   "metadata": {},
   "source": [
    "Next we just have to find $y - \\hat{y}$. First we encode target $y$ in a long column vector of shape `[n, 1]`:\n",
    "\n",
    "$$\n",
    "y = \n",
    "\\begin{bmatrix}\n",
    "y^1 \\\\\n",
    "y^2 \\\\\n",
    "\\vdots \\\\\n",
    "y^n \n",
    "\\end{bmatrix}\n",
    "$$\n",
    "\n",
    "(Remember that we use superscript for indexing the $i^{th}$ data point.) \n",
    "\n",
    "Next we encode each of our predicted values ($\\hat{y}^i$) in a column vector $\\hat{y}$. Since $\\hat{y}^i$ is a dot product between $w$ and each of $x^i$, we can apply [4](#4.-Dot-products-of-rows-in-matrix-$X$-with-vector-$w$-is-$Xw$):"
   ]
  },
  {
   "cell_type": "markdown",
   "metadata": {},
   "source": [
    "$$\n",
    "\\begin{align}\n",
    "y - \\hat{y} &= \n",
    "\\begin{bmatrix}\n",
    "y^1 \\\\\n",
    "y^2 \\\\\n",
    "\\vdots \\\\\n",
    "y^n \n",
    "\\end{bmatrix}\n",
    "- \\begin{bmatrix}\n",
    "\\hat{y}^1 \\\\\n",
    "\\hat{y}^2 \\\\\n",
    "\\vdots \\\\\n",
    "\\hat{y}^n \n",
    "\\end{bmatrix} && \\text{(Error between target and predicted)} \\\\ &=\n",
    "\\begin{bmatrix}\n",
    "y^1 \\\\\n",
    "y^2 \\\\\n",
    "\\vdots \\\\\n",
    "y^n \n",
    "\\end{bmatrix}\n",
    "- \\begin{bmatrix}\n",
    "x^1w \\\\\n",
    "x^2w \\\\\n",
    "\\vdots \\\\\n",
    "x^nw\n",
    "\\end{bmatrix} \n",
    "&& \\text{(Predicted is a dot product of $w$ and each of data point $x^i$)} \\\\ &=\n",
    "\\underset{n\\times 1}\n",
    "{\n",
    "    \\begin{bmatrix}\n",
    "    y^1 \\\\\n",
    "    y^2 \\\\\n",
    "    \\vdots \\\\\n",
    "    y^n \n",
    "    \\end{bmatrix}\n",
    "}\n",
    "- \\underset{n\\times (d+1)}\n",
    "{\n",
    "    \\begin{bmatrix}\n",
    "    \\longleftarrow & x^1 & \\longrightarrow \\\\\n",
    "    \\longleftarrow & x^2 & \\longrightarrow \\\\\n",
    "    & \\vdots & \\\\\n",
    "    \\longleftarrow & x^n & \\longrightarrow \\\\\n",
    "    \\end{bmatrix}\n",
    "}\n",
    "\\underset{(d+1)\\times 1}\n",
    "{\n",
    "    \\begin{bmatrix}\n",
    "    \\uparrow \\\\\n",
    "    w \\\\\n",
    "    \\downarrow\n",
    "    \\end{bmatrix}\n",
    "} && \\text{(Separate them out)} \\\\ &=\n",
    "y - Xw && \\text{(Encode in matrix/vector form)}\n",
    "\\end{align}\n",
    "$$"
   ]
  },
  {
   "cell_type": "markdown",
   "metadata": {},
   "source": [
    "Putting all together we get our loss function for linear regression:\n",
    "\n",
    "$$\n",
    "L(w) = {\\left\\lVert y - Xw \\right\\rVert}^2\n",
    "$$\n",
    "\n",
    "In NumPy code, we can compute $L(w) = (y - Xw)^T(y - Xw)$.\n",
    "\n",
    "There's no intuitive way to come up with this nice formula the first time you saw it. You have to work it out and put things together yourself. Then you'll start to memorize the pattern and it'll become easier."
   ]
  },
  {
   "cell_type": "markdown",
   "metadata": {},
   "source": [
    "## Deriving a Closed-form Solution"
   ]
  },
  {
   "cell_type": "markdown",
   "metadata": {},
   "source": [
    "We'll take derivative of $L(w)$ with respect to $w$, set to zero and solve for $w$.\n",
    "\n",
    "Writing matrix notation is already hard, taking derivative of it is even harder. I recommend writing out partial derivatives to see what happens. For $L(w) = L_w$, we have to take derivative with respect to each dimension of $w$:\n",
    "\n",
    "$$\n",
    "\\nabla L_w = \n",
    "\\begin{bmatrix}\n",
    "\\frac{\\partial L}{\\partial w_0} \\\\\n",
    "\\frac{\\partial L}{\\partial w_1} \\\\\n",
    "\\vdots \\\\\n",
    "\\frac{\\partial L}{\\partial w_d} \\\\\n",
    "\\end{bmatrix} \n",
    "=\n",
    "\\begin{bmatrix}\n",
    "\\frac{\\partial \\sum_{i=1}^{n} \\left( y^i - wx^i \\right)^2}{\\partial w_0} \\\\\n",
    "\\frac{\\partial \\sum_{i=1}^{n} \\left( y^i - wx^i \\right)^2}{\\partial w_1} \\\\\n",
    "\\vdots \\\\\n",
    "\\frac{\\partial \\sum_{i=1}^{n} \\left( y^i - wx^i \\right)^2}{\\partial w_d}\n",
    "\\end{bmatrix} \n",
    "=\n",
    "\\begin{bmatrix}\n",
    "\\frac{\\partial \\sum_{i=1}^{n} \\left( y^i - wx^i \\right)^2}{\\partial w_0} \\\\\n",
    "\\frac{\\partial \\sum_{i=1}^{n} \\left( y^i - wx^i \\right)^2}{\\partial w_1} \\\\\n",
    "\\vdots \\\\\n",
    "\\frac{\\partial \\sum_{i=1}^{n} \\left( y^i - wx^i \\right)^2}{\\partial w_d}\n",
    "\\end{bmatrix} \n",
    "=\n",
    "\\underset{(d+1) \\times 1}\n",
    "{\n",
    "\\begin{bmatrix}\n",
    "-2\\sum_{i=1}^{n} x^i_0 \\left( y^i - wx^i \\right) \\\\\n",
    "-2\\sum_{i=1}^{n} x^i_1 \\left( y^i - wx^i \\right) \\\\\n",
    "\\vdots \\\\\n",
    "-2\\sum_{i=1}^{n} x^i_d \\left( y^i - wx^i \\right) \\\\\n",
    "\\end{bmatrix}\n",
    "}\n",
    "$$"
   ]
  },
  {
   "cell_type": "markdown",
   "metadata": {},
   "source": [
    "Looks like we might be able to apply our fourth point ($Xw$, but in this case $w$ is $(y - Xw)$. But unlike our fourth point, we now sum along data points ($n$) instead of dimensions ($d$). For this, we want each row of $X$ to be one given dimension along all data points instead of one data point with all dimensions, and thus we use $X^T$ instead of $X$. Finally, here's the full derivative in matrix notation:\n",
    "\n",
    "$$\n",
    "\\nabla L_w = -2X^T(y-Xw)\n",
    "$$"
   ]
  },
  {
   "cell_type": "markdown",
   "metadata": {},
   "source": [
    "Setting to zero and solve:\n",
    "\n",
    "$$\n",
    "\\begin{align}\n",
    "0 &= -2X^T(y-Xw) \\\\\n",
    "&= X^T(y-Xw)     \\\\ \n",
    "&= X^Ty - X^TXw \n",
    "\\end{align}\n",
    "$$\n",
    "\n",
    "Move $X^TX$ to other side and we get a closed-form solution:\n",
    "\n",
    "$$\n",
    "\\begin{align}\n",
    "X^TXw &= X^Ty    \\\\\n",
    "w &= (X^TX)^{-1}X^Ty\n",
    "\\end{align}\n",
    "$$"
   ]
  },
  {
   "cell_type": "markdown",
   "metadata": {},
   "source": [
    "In NumPy, this is:\n",
    "```python\n",
    "w = np.linalg.inv(X.T @ X) @ X @ y\n",
    "```"
   ]
  },
  {
   "cell_type": "markdown",
   "metadata": {},
   "source": [
    "## A NumPy Example"
   ]
  },
  {
   "cell_type": "code",
   "execution_count": 1,
   "metadata": {},
   "outputs": [],
   "source": [
    "import numpy as np\n",
    "import matplotlib.pyplot as plt\n",
    "np.random.seed(1)"
   ]
  },
  {
   "cell_type": "markdown",
   "metadata": {},
   "source": [
    "We will create a fake dataset from the underlying equation $y = 2x + 7$:"
   ]
  },
  {
   "cell_type": "code",
   "execution_count": 2,
   "metadata": {},
   "outputs": [],
   "source": [
    "def true_target(x):\n",
    "  return 2*x + 7"
   ]
  },
  {
   "cell_type": "markdown",
   "metadata": {},
   "source": [
    "In practical settings, there is no way we know this exact equation. We only get **observed** targets, and there's some **noise** on it. The reason is that it's impossible to measure any data out there in the world perfectly:"
   ]
  },
  {
   "cell_type": "code",
   "execution_count": 3,
   "metadata": {},
   "outputs": [],
   "source": [
    "def observed_target(x):\n",
    "  \"\"\"Underlying data with Gaussian noise added\"\"\"\n",
    "  normal_noise = np.random.normal() * 3\n",
    "  return true_target(x) + normal_noise"
   ]
  },
  {
   "cell_type": "markdown",
   "metadata": {},
   "source": [
    "### Creating data points"
   ]
  },
  {
   "cell_type": "markdown",
   "metadata": {},
   "source": [
    "Next, make 50 data points, observations and targets:"
   ]
  },
  {
   "cell_type": "code",
   "execution_count": 4,
   "metadata": {},
   "outputs": [],
   "source": [
    "N = 50\n",
    "\n",
    "# Features, X is [1,50]\n",
    "# X = np.arange(N).reshape(N, 1)\n",
    "X = np.random.rand(N).reshape(N, 1) * 10\n",
    "\n",
    "# Observed targets\n",
    "y = np.array([observed_target(x) for x in X]).reshape(N, 1)"
   ]
  },
  {
   "cell_type": "markdown",
   "metadata": {},
   "source": [
    "Adding dummy dimension term to each $x^i$:"
   ]
  },
  {
   "cell_type": "code",
   "execution_count": 5,
   "metadata": {},
   "outputs": [],
   "source": [
    "# Append 1 for intercept term later\n",
    "X = np.hstack([np.ones((N, 1)), X])"
   ]
  },
  {
   "cell_type": "markdown",
   "metadata": {},
   "source": [
    "Note that it **doesn't matter** here whether we add it to the front or back, it will simply reflect correspondingly in our solution $w$."
   ]
  },
  {
   "cell_type": "markdown",
   "metadata": {},
   "source": [
    "### Visualize our data points with respect to the true line"
   ]
  },
  {
   "cell_type": "code",
   "execution_count": 6,
   "metadata": {},
   "outputs": [
    {
     "data": {
      "image/png": "[encoded data removed]",
      "text/plain": [
       "<Figure size 432x288 with 1 Axes>"
      ]
     },
     "metadata": {
      "needs_background": "light"
     },
     "output_type": "display_data"
    }
   ],
   "source": [
    "# For plotting\n",
    "features = X[:,1:] # exclude the intercept for plotting\n",
    "target = y\n",
    "true_targets = true_target(X[:,1:])\n",
    "\n",
    "plt.scatter(features, target, s=10, label='Observed data points')\n",
    "plt.plot(features, true_targets, c='blue', label='True target line y = 2x + 7', alpha=0.3)\n",
    "\n",
    "plt.xlabel('Feature')\n",
    "plt.ylabel('Target')\n",
    "plt.legend(loc='best')\n",
    "plt.title('True and observed data points')\n",
    "plt.show()"
   ]
  },
  {
   "cell_type": "markdown",
   "metadata": {},
   "source": [
    "### Compute a closed-form solution"
   ]
  },
  {
   "cell_type": "markdown",
   "metadata": {},
   "source": [
    "Our goal is to get the line that is closest to that true target (blue) line as possible, without the knowledge of its existence. For this we use linear regression to fit observed data points by following the formula from the previous section:"
   ]
  },
  {
   "cell_type": "code",
   "execution_count": 7,
   "metadata": {},
   "outputs": [],
   "source": [
    "w = np.linalg.inv(X.T @ X) @ X.T @ y"
   ]
  },
  {
   "cell_type": "markdown",
   "metadata": {},
   "source": [
    "To predict, we compute $\\hat{y} = xw$ for each data point $x^i$. Here we predict the training set (`X`) itself:"
   ]
  },
  {
   "cell_type": "code",
   "execution_count": 8,
   "metadata": {},
   "outputs": [],
   "source": [
    "predicted = X @ w # y_hat"
   ]
  },
  {
   "cell_type": "markdown",
   "metadata": {},
   "source": [
    "To predict a set of new points, you just make it the same format as `X`, e.g., rows of data points."
   ]
  },
  {
   "cell_type": "markdown",
   "metadata": {},
   "source": [
    "### Visualize best fit line vs. true target line"
   ]
  },
  {
   "cell_type": "code",
   "execution_count": 9,
   "metadata": {},
   "outputs": [
    {
     "data": {
      "image/png": "[encoded data removed]",
      "text/plain": [
       "<Figure size 432x288 with 1 Axes>"
      ]
     },
     "metadata": {
      "needs_background": "light"
     },
     "output_type": "display_data"
    }
   ],
   "source": [
    "plt.scatter(features, target, s=10, label='Data points')\n",
    "plt.plot(features, true_targets, c='blue', label='True target line', alpha=0.3)\n",
    "plt.plot(features, predicted, c='red', label='Best fit line')\n",
    "\n",
    "plt.xlabel('Feature')\n",
    "plt.ylabel('Target')\n",
    "plt.legend(loc='best')\n",
    "plt.show()"
   ]
  },
  {
   "cell_type": "markdown",
   "metadata": {},
   "source": [
    "That's pretty close."
   ]
  },
  {
   "cell_type": "markdown",
   "metadata": {},
   "source": [
    "### Understanding the result\n",
    "\n",
    "And our $w$ is:"
   ]
  },
  {
   "cell_type": "code",
   "execution_count": 10,
   "metadata": {},
   "outputs": [
    {
     "name": "stdout",
     "output_type": "stream",
     "text": [
      "[[7.00426874]\n",
      " [2.08162643]]\n"
     ]
    }
   ],
   "source": [
    "print(w)"
   ]
  },
  {
   "cell_type": "markdown",
   "metadata": {},
   "source": [
    "Since we append ones in front of each data point $x$, `w[0]` will be the intercept term and `w[1]` will be the slope. \n",
    "So our predicted line will be in the format of `y = w[1]*x + w[0]`.\n",
    "Recall the *true* equation $y = 2x + 7$, you can see that we almost got the true slope (2):"
   ]
  },
  {
   "cell_type": "code",
   "execution_count": 11,
   "metadata": {},
   "outputs": [
    {
     "name": "stdout",
     "output_type": "stream",
     "text": [
      "Our slope is 2.081626431082087\n"
     ]
    }
   ],
   "source": [
    "print(\"Our slope is\", w[1][0])"
   ]
  },
  {
   "cell_type": "markdown",
   "metadata": {},
   "source": [
    "The intercept seems a little off, but that's okay because our data is in a big range ($x \\in [0, 50], y \\in [7, 107]$). If we normalize the data into $[0, 1]$ range, expect it to be much closer."
   ]
  },
  {
   "cell_type": "markdown",
   "metadata": {},
   "source": [
    "Below is our sum of squared error for the best fit line. Note that the number doesn't mean anything much, apart from that this is the least possible loss we would get from any lines that try to fit the data:"
   ]
  },
  {
   "cell_type": "code",
   "execution_count": 12,
   "metadata": {},
   "outputs": [
    {
     "name": "stdout",
     "output_type": "stream",
     "text": [
      "[[368.25248566]]\n"
     ]
    }
   ],
   "source": [
    "diff = (y - X @ w)\n",
    "loss = diff.T @ diff\n",
    "print(loss)"
   ]
  },
  {
   "cell_type": "markdown",
   "metadata": {},
   "source": [
    "If you don't want intermediate variable, you can use `np.linalg.norm`, but to get the sum of squared loss, you have to square that after:"
   ]
  },
  {
   "cell_type": "code",
   "execution_count": 13,
   "metadata": {},
   "outputs": [
    {
     "name": "stdout",
     "output_type": "stream",
     "text": [
      "368.252485661978\n"
     ]
    }
   ],
   "source": [
    "loss = np.linalg.norm(y - X @ w, ord=2) ** 2\n",
    "print(loss)"
   ]
  },
  {
   "cell_type": "markdown",
   "metadata": {},
   "source": [
    "### Visualize the loss surface\n",
    "\n",
    "Let's confirm that our solution is really the one with lowest loss by seeing the loss surface.\n",
    "\n",
    "Our loss function $L(w)$ depends on two dimensions of $w$, e.g., `w[0]` and `w[1]`. If we plot $L(w)$ over possible values of `w[0]` and `w[1]`, the minimum of $L(w)$ should be near `w = [5.17,2.066]`, which is our solution.\n",
    "\n",
    "To plot that out, first we have to create all possible values of w[0] and w[1] in a grid."
   ]
  },
  {
   "cell_type": "code",
   "execution_count": 14,
   "metadata": {},
   "outputs": [
    {
     "name": "stdout",
     "output_type": "stream",
     "text": [
      "Number of values in each axis: 400\n"
     ]
    }
   ],
   "source": [
    "from mpl_toolkits.mplot3d import Axes3D\n",
    "\n",
    "# Ranges of w0 and w1 to see, centering at the true line\n",
    "spanning_radius = 10\n",
    "w0range = np.arange(7-spanning_radius, 7+spanning_radius, 0.05)\n",
    "w1range = np.arange(2-spanning_radius, 2+spanning_radius, 0.05)\n",
    "w0grid, w1grid = np.meshgrid(w0range, w1range)\n",
    "\n",
    "range_len = len(w0range)\n",
    "print(\"Number of values in each axis:\", range_len)"
   ]
  },
  {
   "cell_type": "markdown",
   "metadata": {},
   "source": [
    "This means we'll look into a total of 400*400 = 160,000 values of `w`. We have to calculate loss for each pair of `w0, w1`: "
   ]
  },
  {
   "cell_type": "code",
   "execution_count": 15,
   "metadata": {},
   "outputs": [],
   "source": [
    "# Make [w0, w1] in (2, 14400) shape\n",
    "all_w0w1_values = np.hstack([w0grid.flatten()[:,None], w1grid.flatten()[:,None]]).T\n",
    "\n",
    "# Compute all losses, reshape back to grid format\n",
    "all_losses = (np.linalg.norm(y - (X @ all_w0w1_values), axis=0, ord=2) ** 2).reshape((range_len, range_len))"
   ]
  },
  {
   "cell_type": "markdown",
   "metadata": {},
   "source": [
    "Then, we can plot the loss surface (with minimum at the red point):"
   ]
  },
  {
   "cell_type": "code",
   "execution_count": 16,
   "metadata": {},
   "outputs": [
    {
     "data": {
      "image/png": "[encoded data removed]",
      "text/plain": [
       "<Figure size 720x432 with 1 Axes>"
      ]
     },
     "metadata": {
      "needs_background": "light"
     },
     "output_type": "display_data"
    }
   ],
   "source": [
    "fig = plt.figure(figsize=(10,6))\n",
    "ax = fig.gca(projection='3d')\n",
    "\n",
    "ax.plot_surface(w0grid, w1grid, all_losses, alpha=0.5, cmap='RdBu')\n",
    "ax.contour(w0grid, w1grid, all_losses, offset=0, alpha=1, cmap='RdBu')\n",
    "ax.scatter(w[0], w[1], loss, lw=3, c='red', s=100, label=\"Minimum point (5.9,2.2)\")\n",
    "\n",
    "ax.legend(loc='best')\n",
    "ax.set_xlabel('w[0]')\n",
    "ax.set_ylabel('w[1]')\n",
    "ax.set_zlabel('L(w)')\n",
    "ax.set_xticks(np.arange(7-spanning_radius, 7+spanning_radius, 2))\n",
    "ax.set_yticks(np.arange(2-spanning_radius, 2+spanning_radius, 2))\n",
    "ax.set_zticks([loss])\n",
    "plt.show()"
   ]
  },
  {
   "cell_type": "markdown",
   "metadata": {},
   "source": [
    "You can notice the bowl **centers** at the solution."
   ]
  },
  {
   "cell_type": "markdown",
   "metadata": {},
   "source": [
    "## Using sklearn\n",
    "\n",
    "Using `sklearn` for linear regression is very simple (if you already understand all the concepts above)."
   ]
  },
  {
   "cell_type": "code",
   "execution_count": 17,
   "metadata": {},
   "outputs": [],
   "source": [
    "from sklearn.linear_model import LinearRegression"
   ]
  },
  {
   "cell_type": "markdown",
   "metadata": {},
   "source": [
    "First we create the classifier `clf`. If `fit_intercept` is `True` (default), then it adds the dummy '1' to the `X`. But we already did that manually, so set it to `False` here."
   ]
  },
  {
   "cell_type": "code",
   "execution_count": 18,
   "metadata": {},
   "outputs": [],
   "source": [
    "clf = LinearRegression(fit_intercept=False)"
   ]
  },
  {
   "cell_type": "markdown",
   "metadata": {},
   "source": [
    "Then fit the data:"
   ]
  },
  {
   "cell_type": "code",
   "execution_count": 19,
   "metadata": {},
   "outputs": [
    {
     "data": {
      "text/plain": [
       "LinearRegression(copy_X=True, fit_intercept=False, n_jobs=None,\n",
       "         normalize=False)"
      ]
     },
     "execution_count": 19,
     "metadata": {},
     "output_type": "execute_result"
    }
   ],
   "source": [
    "clf.fit(X,y)"
   ]
  },
  {
   "cell_type": "markdown",
   "metadata": {},
   "source": [
    "Check the $w$ learned, it's the same as ours:"
   ]
  },
  {
   "cell_type": "code",
   "execution_count": 20,
   "metadata": {},
   "outputs": [
    {
     "name": "stdout",
     "output_type": "stream",
     "text": [
      "[[7.00426874 2.08162643]]\n"
     ]
    }
   ],
   "source": [
    "print(clf.coef_)"
   ]
  },
  {
   "cell_type": "markdown",
   "metadata": {},
   "source": [
    "Previously we use `X @ w` to predict data. For `sklearn` we can use `clf.predict`:"
   ]
  },
  {
   "cell_type": "code",
   "execution_count": 21,
   "metadata": {},
   "outputs": [],
   "source": [
    "predicted = clf.predict(X)"
   ]
  },
  {
   "cell_type": "markdown",
   "metadata": {},
   "source": [
    "And the result is the same:"
   ]
  },
  {
   "cell_type": "code",
   "execution_count": 22,
   "metadata": {},
   "outputs": [
    {
     "data": {
      "image/png": "[encoded data removed]",
      "text/plain": [
       "<Figure size 432x288 with 1 Axes>"
      ]
     },
     "metadata": {
      "needs_background": "light"
     },
     "output_type": "display_data"
    }
   ],
   "source": [
    "plt.scatter(X[:,1:], y, s=10, label='Data points')\n",
    "plt.plot(X[:,1:], true_targets, c='blue', label='True line', alpha=0.3)\n",
    "plt.plot(X[:,1:], predicted, c='red', label='Best fit line')\n",
    "plt.legend(loc='best')\n",
    "plt.show()"
   ]
  }
 ],
 "metadata": {
  "kernelspec": {
   "display_name": "Python 3",
   "language": "python",
   "name": "python3"
  },
  "language_info": {
   "codemirror_mode": {
    "name": "ipython",
    "version": 3
   },
   "file_extension": ".py",
   "mimetype": "text/x-python",
   "name": "python",
   "nbconvert_exporter": "python",
   "pygments_lexer": "ipython3",
   "version": "3.6.8"
  }
 },
 "nbformat": 4,
 "nbformat_minor": 2
}
